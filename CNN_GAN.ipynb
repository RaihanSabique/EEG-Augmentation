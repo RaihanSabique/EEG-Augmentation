{
  "cells": [
    {
      "cell_type": "markdown",
      "metadata": {
        "id": "kgW6lC45yMqM"
      },
      "source": [
        "# Initialization\n"
      ]
    },
    {
      "cell_type": "code",
      "execution_count": null,
      "metadata": {
        "colab": {
          "base_uri": "https://localhost:8080/"
        },
        "id": "HbqXJfkkvcDE",
        "outputId": "0388cc85-391d-42ca-c021-d26284991d1a",
        "cellView": "form"
      },
      "outputs": [
        {
          "output_type": "stream",
          "name": "stdout",
          "text": [
            "Drive already mounted at /content/drive; to attempt to forcibly remount, call drive.mount(\"/content/drive\", force_remount=True).\n"
          ]
        }
      ],
      "source": [
        "#@title Google Drive\n",
        "from google.colab import drive\n",
        "from google.colab import files\n",
        "\n",
        "drive.mount('/content/drive')"
      ]
    },
    {
      "cell_type": "code",
      "execution_count": null,
      "metadata": {
        "cellView": "form",
        "id": "3wvbi78_1Hhc"
      },
      "outputs": [],
      "source": [
        "#@title Import Library\n",
        "import numpy as np\n",
        "import scipy.io as sio\n",
        "import matplotlib.pyplot as plt\n",
        "import glob\n",
        "import os\n",
        "from scipy.signal import fftconvolve,firwin, freqz,lfilter,lfilter_zi,firls\n",
        "import tensorflow as tf\n",
        "from tqdm.notebook import tnrange, tqdm\n",
        "import absl.logging\n",
        "absl.logging.set_verbosity(absl.logging.ERROR)"
      ]
    },
    {
      "cell_type": "code",
      "execution_count": null,
      "metadata": {
        "id": "DukeAM-u1coU",
        "cellView": "form"
      },
      "outputs": [],
      "source": [
        "#@title electrodes\n",
        "electrodes = ['FP1', 'AF7', 'AF3', 'F1', 'F3', 'F5', 'F7', 'FT7', 'FC5', 'FC3',' FC1', 'C1', 'C3','C5', 'T7', 'TP7', 'CP5', 'CP3', 'CP1','P1','P3', 'P5', 'P7', 'P9', 'RO7', 'PO3', 'O1', 'Iz','Oz','POz', 'Pz', 'CPZ', 'FPZ', 'FP2', 'AF8', 'AF4', 'AFZ','FZ', 'F2', 'F4', 'F6', 'F8', 'FT8', 'FC6', 'FC4', 'FC2', 'FCz','Cz', 'C2', 'C4', 'C6', 'T8', 'TP8', 'CP6', 'CP4', 'CP2', 'P2', 'P4', 'P6', 'P8', 'P10','PO8', 'PO4', 'O2','EMG1','EMG2','EMG3','EMG4']\n",
        "electrodes.reverse()\n",
        "path = \"/content/drive/MyDrive/EEG-GAN/Dataset/cho_et_al_data/raw\""
      ]
    },
    {
      "cell_type": "code",
      "execution_count": null,
      "metadata": {
        "id": "LC8VLZqadqXm",
        "cellView": "form"
      },
      "outputs": [],
      "source": [
        "#@title Parameters\n",
        "Fs = 512\n",
        "patients = 10                       #@param {type:\"integer\"}\n",
        "segment_length = 3                  #@param {type:\"integer\"}\n",
        "alpha = True                       #@param {type:\"boolean\"}\n",
        "concat = False                      #@param {type:\"boolean\"}\n",
        "is_gp = False                       #@param {type:\"boolean\"}\n",
        "channels = ['FC3']                  \n",
        "\n",
        "batch_size = 256                    #@param {type:\"integer\"}\n",
        "epochs = 200                        #@param {type:\"integer\"}\n",
        "latent_dim = 200                    #@param {type:\"integer\"}\n",
        "d_extra_steps = 1                   #@param {type:\"integer\"}\n",
        "gp_weight = 10.0                    #@param {type:\"number\"}\n",
        "loss = \"bce\"                        #@param [\"bce\", \"wgan\"]\n",
        "\n",
        "\n",
        "load_pretrained = False             #@param {type:\"boolean\"}\n",
        "save_path = '/content/drive/MyDrive/EEG-GAN/Model_Saves/EEG_GAN_2/'   #@param {type:\"string\"}\n",
        "discriminator_save_path = os.path.join(save_path, 'discriminator.h5')\n",
        "generator_save_path = os.path.join(save_path, 'generator.h5')"
      ]
    },
    {
      "cell_type": "code",
      "execution_count": null,
      "metadata": {
        "id": "_wJdBGOe1jEc"
      },
      "outputs": [],
      "source": [
        "#@title Preprocessing Functions\n",
        "def bandpass_firls(xn, lowcut2,lowcut1, highcut1, highcut2, fs):\n",
        "    nyq = 0.5 * fs\n",
        "    ntaps = fs if fs%2==1 else fs+1\n",
        "    b = firls(ntaps, [0 ,lowcut2,lowcut1, highcut1, highcut2,nyq], [0,0,1,1,0,0] ,fs=fs)\n",
        "    a=1\n",
        "    zi = lfilter_zi(b, a)\n",
        "    z, _ = lfilter(b, a, xn,zi=zi*xn[0])\n",
        "    return z\n",
        "\n",
        "def band_separate(data, fs, ntaps):\n",
        "    delta = bandpass_firls(data,ntaps,0.1,0.5, 4, 5, fs)\n",
        "    theta = bandpass_firls(data,ntaps,3.5,4, 8, 8.5, fs)\n",
        "    alpha = bandpass_firls(data,ntaps,7,8, 12, 13, fs)\n",
        "    sigma = bandpass_firls(data,ntaps,11.5,12, 16, 16.5, fs)\n",
        "    beta = bandpass_firls(data,ntaps,15.5,16, 30, 30.5, fs)\n",
        "    return delta, theta, alpha, sigma, beta\n",
        "\n",
        "def filter_alpha(data, Fs):\n",
        "  d = []\n",
        "  for i in range (data.shape[0]):\n",
        "    alpha = bandpass_firls(data[i], 7,8, 12, 13, Fs)\n",
        "    d.append(alpha)\n",
        "  data = np.stack(d, axis  = 0)\n",
        "  return data"
      ]
    },
    {
      "cell_type": "code",
      "execution_count": null,
      "metadata": {
        "id": "0QereSqX15ml"
      },
      "outputs": [],
      "source": [
        "#@title Dataset Functions\n",
        "def struct2dict(mat):\n",
        "  data = dict()\n",
        "  key = list(mat.keys())[-1]\n",
        "  for i in range(len(mat[key][0,0])):\n",
        "    data[mat[key][0,0].dtype.descr[i][0]] = mat[key][0,0][i]\n",
        "  return data\n",
        "\n",
        "def channel_normalize(data, axis):\n",
        "  mean = np.expand_dims(data.mean(axis = axis), axis = axis)\n",
        "  diff = np.expand_dims(data.max(axis = axis)- data.min(axis = axis), axis = axis)\n",
        "  data = (data - mean)/diff\n",
        "  return data\n",
        "\n",
        "def import_data(file):\n",
        "  mat = sio.loadmat(file)\n",
        "  mat = struct2dict(mat)\n",
        "  return mat\n",
        "\n",
        "def preprocess(data, events,  Fs, seconds,  alpha, concat):\n",
        "  if alpha:\n",
        "    data = filter_alpha(data, Fs)\n",
        "  data = channel_normalize(data, axis = 1)\n",
        "  channels = data.shape[0]\n",
        "  length = seconds*Fs\n",
        "  #data = data[:, data.shape[1]%length :]\n",
        "  if concat:\n",
        "    #data = data.T.reshape(-1, length, channels)\n",
        "    data = np.moveaxis(np.stack([data[:,event:event+Fs*seconds] for event in np.where(events== 1)[1]]),1,2)\n",
        "  else:\n",
        "    data = np.stack([data[:,event:event+Fs*seconds] for event in np.where(events== 1)[1]]).reshape(-1,length,1)\n",
        "  return data\n",
        "\n",
        "def channel_selector(data, channels, concat, electrodes):\n",
        "  index = []\n",
        "  if isinstance(channels, list):\n",
        "    for channel in channels:\n",
        "      try:\n",
        "        index.append(electrodes.index(channel))\n",
        "      except ValueError:\n",
        "        print('channel doesn\\'t exist')\n",
        "    \n",
        "    data = data[index]\n",
        "  return data\n",
        "def level_change_corr(data, Fs):\n",
        "  for i in range(int(data.shape[1]/512/7)):\n",
        "    mean = np.expand_dims(data[:,i*7:Fs: (i+1)*Fs*7].mean(axis = 1), axis = 1)\n",
        "    data[:,i*7*Fs: (i+1)*Fs*7] = data[:,i*7*Fs: (i+1)*Fs*7] - mean\n",
        "  return data\n",
        "\n",
        "def create_dataset(files, Fs, seconds, alpha, channels, concat, electrodes):\n",
        "  data = []\n",
        "  labels=[]\n",
        "  for i in tnrange(len(files)):\n",
        "    mat = import_data(files[i])\n",
        "    d1 = mat['movement_left']\n",
        "    d2 = mat['movement_right']\n",
        "    events = mat['movement_event']\n",
        "\n",
        "    d1 = channel_selector(d1, channels, concat, electrodes)\n",
        "    #d1 = level_change_corr(d1, Fs)\n",
        "    d1 = preprocess(d1, events, Fs, seconds,  alpha, concat)\n",
        "\n",
        "    d2 = channel_selector(d2, channels, concat, electrodes)\n",
        "    #d2 = level_change_corr(d2, Fs)\n",
        "    d2 = preprocess(d2, events, Fs, seconds,  alpha, concat)\n",
        "\n",
        "    data.append(d1)\n",
        "    data.append(d2)\n",
        "\n",
        "    l1 = np.zeros((d1.shape[0],1))\n",
        "    l2 = np.ones((d2.shape[0],1))\n",
        "\n",
        "    labels.append(l1)\n",
        "    labels.append(l2)\n",
        "\n",
        "  data = np.concatenate(data)\n",
        "  labels = np.concatenate(labels)\n",
        "  return data, labels"
      ]
    },
    {
      "cell_type": "code",
      "execution_count": null,
      "metadata": {
        "cellView": "form",
        "id": "gmMvmdUe2HU6"
      },
      "outputs": [],
      "source": [
        "#@title Visualizaton Functions\n",
        "def normalize(data):\n",
        "  mean = data.mean()\n",
        "  diff = data.max()- data.min()\n",
        "  data = (data - mean)/diff\n",
        "  return data\n",
        "\n",
        "\n",
        "def show_eeg_signal(Xf, ch_names = ['preds {}'.format(i) for i in range(batch_size)], fs = 512, seconds = 3, sensitivity = 4, spacing= 4, mode = 'norm'):\n",
        "  Xf = Xf[:,:seconds*fs].T\n",
        "  \n",
        "  if mode == 'max':\n",
        "    Xf = normalize(Xf)*sensitivity\n",
        "  else:\n",
        "    Xf = channel_normalize(Xf, axis = 1)*sensitivity\n",
        "  ch_len = Xf.shape[1]\n",
        "  print(ch_len)\n",
        "  t = np.arange(seconds*fs)\n",
        "  plt.figure(figsize=(5*seconds,ch_len))\n",
        "  plt.plot(t,Xf+np.arange(-int(np.ceil(ch_len/2)),int(np.floor(ch_len/2)))*spacing)\n",
        "  plt.xlim([t[0],t[-1]])\n",
        "  plt.xlabel('time (sec)')\n",
        "  plt.yticks(np.arange(-int(np.ceil(ch_len/2)),int(np.floor(ch_len/2)))*spacing,ch_names)\n",
        "  plt.grid()\n",
        "  plt.title('Xf: 14 channel - EEG Signal')\n",
        "  plt.show()"
      ]
    },
    {
      "cell_type": "code",
      "execution_count": null,
      "metadata": {
        "colab": {
          "base_uri": "https://localhost:8080/",
          "referenced_widgets": [
            "e8f74cc700654b0babbda1289dcfb0cd",
            "30667583d6c34ae49c98e4cc05cc732f",
            "3bbeb99e366d4eb697f3dedd3f605721",
            "7afc685b842b47ad85d98672f788ee3c",
            "bd34eb4c3dab425f94f8a134084cf0d4",
            "0d4b5f9ac11a453188b283a226541c96",
            "1203a51caa3d4edb8d4405553d7bfaef",
            "e5a5fdc807cf41c69b6aaffac99cb03c",
            "2982e0df5ef6472eb10d10185d7ac0cc",
            "cf0e79ec9d294d7fb72b764393dad572",
            "7f30f8bd3a224e038c770bed67e49365"
          ]
        },
        "id": "ITIL2Luf2PDd",
        "outputId": "70d4dc56-98f6-4756-dcbb-4beadde5ad87",
        "cellView": "form"
      },
      "outputs": [
        {
          "output_type": "display_data",
          "data": {
            "text/plain": [
              "  0%|          | 0/10 [00:00<?, ?it/s]"
            ],
            "application/vnd.jupyter.widget-view+json": {
              "version_major": 2,
              "version_minor": 0,
              "model_id": "e8f74cc700654b0babbda1289dcfb0cd"
            }
          },
          "metadata": {}
        }
      ],
      "source": [
        "#@title Dataset Creation\n",
        "files = glob.glob(path + '/*.mat')\n",
        "data, labels = create_dataset(files[:patients], Fs = Fs, seconds = segment_length, alpha = alpha, channels = channels, concat = concat, electrodes = electrodes)\n",
        "data_mean = np.mean(data)\n",
        "data_std = np.std(data)\n",
        "trial_shape = data[0].shape\n",
        "dataset = tf.data.Dataset.from_tensor_slices(data)\n",
        "dataset = dataset.shuffle(1024).batch(batch_size)\n",
        "del data"
      ]
    },
    {
      "cell_type": "markdown",
      "metadata": {
        "id": "V7KseFEM2Zqr"
      },
      "source": [
        "# Model"
      ]
    },
    {
      "cell_type": "code",
      "execution_count": null,
      "metadata": {
        "cellView": "form",
        "id": "G7-SdQHo7EHC"
      },
      "outputs": [],
      "source": [
        "#@title Import\n",
        "import tensorflow as tf\n",
        "from tensorflow.keras.metrics import Mean\n",
        "from tensorflow.keras.losses import mse\n",
        "from tensorflow.keras.models import load_model, save_model\n",
        "\n",
        "import tensorflow.keras.backend as K\n",
        "from tensorflow.keras.callbacks import Callback\n",
        "\n",
        "from tensorflow.keras.layers import Dense, Dropout, Flatten, Reshape, LeakyReLU, Conv1D, MaxPooling1D, Activation, Input, UpSampling1D, BatchNormalization, Lambda, Concatenate, Layer, Embedding, Conv1DTranspose, AveragePooling1D, LayerNormalization\n",
        "from tensorflow.keras.models import Model, load_model\n",
        "import numpy as np\n",
        "from sklearn.preprocessing import LabelEncoder\n",
        "from keras.utils import to_categorical\n",
        "from tensorflow.keras.optimizers.legacy import Adam\n",
        "import os\n",
        "from matplotlib import pyplot as plt"
      ]
    },
    {
      "cell_type": "code",
      "execution_count": null,
      "metadata": {
        "cellView": "form",
        "id": "VT7ysPM9IWUT"
      },
      "outputs": [],
      "source": [
        "#@title Gradient Penalty\n",
        "def gradient_penalty(discriminator, real_images, fake_images):\n",
        "    \"\"\"Calculates the gradient penalty.\n",
        "\n",
        "    This loss is calculated on an interpolated image\n",
        "    and added to the discriminator loss.\n",
        "    \"\"\"\n",
        "    batch_size = real_images.shape[0]\n",
        "    # Get the interpolated image\n",
        "    alpha = tf.random.normal([batch_size, 1, 1], 0.0, 1.0)\n",
        "    diff = fake_images - real_images\n",
        "    interpolated = real_images + alpha * diff\n",
        "\n",
        "    with tf.GradientTape() as gp_tape:\n",
        "        gp_tape.watch(interpolated)\n",
        "        # 1. Get the discriminator output for this interpolated image.\n",
        "        pred = discriminator(interpolated, training=True)\n",
        "\n",
        "    # 2. Calculate the gradients w.r.t to this interpolated image.\n",
        "    grads = gp_tape.gradient(pred, [interpolated])[0]\n",
        "    # 3. Calculate the norm of the gradients.\n",
        "    norm = tf.sqrt(tf.reduce_sum(tf.square(grads), axis=[1, 2]))\n",
        "    gp = tf.reduce_mean((norm - 1.0) ** 2)\n",
        "    return gp"
      ]
    },
    {
      "cell_type": "code",
      "execution_count": null,
      "metadata": {
        "id": "To038elrTv1i"
      },
      "outputs": [],
      "source": [
        "#@title Discriminator-Generator\n",
        "# discriminator block\n",
        "\n",
        "def conv_block(\n",
        "    x,\n",
        "    filters,\n",
        "    activation = LeakyReLU(0.2),\n",
        "    kernel_size=9,\n",
        "    strides= 1,\n",
        "    padding=\"same\",\n",
        "    use_bias=True,\n",
        "    use_bn=False,\n",
        "    use_dropout=False,\n",
        "    drop_value=0.5\n",
        "):\n",
        "    x = Conv1D(filters, kernel_size, strides=strides, padding=padding, use_bias=use_bias)(x)   \n",
        "    x = Conv1D(filters, kernel_size, strides=strides, padding=padding, use_bias=use_bias)(x) \n",
        "    x = AveragePooling1D(pool_size=2, strides= 2, padding='same')(x)\n",
        "\n",
        "    if use_bn:\n",
        "        x = LayerNormalization(axis = -1)(x)\n",
        "    x = activation(x)\n",
        "    if use_dropout:\n",
        "        x = Dropout(drop_value)(x)\n",
        "    return x\n",
        "\n",
        "\n",
        "def get_discriminator_model(trial_shape):\n",
        "    \n",
        "#     print(f'k_size - {k_size}, s_size - {s_size}, ')\n",
        "    \n",
        "    inputs = Input(shape=trial_shape)\n",
        "    x = Conv1D(filters = 50, kernel_size = 1, strides= 1, padding='same', use_bias=True)(inputs)\n",
        "    for _ in range(7):\n",
        "      x = conv_block(x,50)\n",
        "    x = Flatten()(x)\n",
        "    x = Dropout(0.2)(x)\n",
        "    x = Dense(1)(x)\n",
        "\n",
        "    d_model = Model(inputs, x, name=\"discriminator\")\n",
        "    return d_model\n",
        "\n",
        "\n",
        "# generator block\n",
        "def upsample_block(\n",
        "    x,\n",
        "    filters,\n",
        "    activation=LeakyReLU(0.2),\n",
        "    kernel_size=9,\n",
        "    strides=1,\n",
        "    padding=\"same\",\n",
        "    use_bn=False,\n",
        "    use_bias=True,\n",
        "\n",
        "):\n",
        "    x = UpSampling1D(size=2)(x)\n",
        "    x = Conv1D(filters, kernel_size, strides=strides, padding=padding, use_bias=use_bias)(x)   \n",
        "    x = activation(x)\n",
        "    x = LayerNormalization(axis = -1)(x)\n",
        "    x = Conv1D(filters, kernel_size, strides=strides, padding=padding, use_bias=use_bias)(x) \n",
        "    x = activation(x)\n",
        "    x = LayerNormalization(axis = -1)(x)\n",
        "    return x\n",
        "\n",
        "\n",
        "def get_generator_model(noise_dim, trial_shape):\n",
        "\n",
        "\n",
        "    \n",
        "    starting_shape = (12, 50)\n",
        "#     print(f'strides_1 - {strides_1}, kernel_size_1 - {kernel_size_1}, kernel_size_2 - {kernel_size_2}, intermediate_time_dim - {intermediate_time_dim}, starting_shape - {starting_shape}')\n",
        "    \n",
        "    inputs = Input(shape=(noise_dim,)) \n",
        "    x = Dense(np.prod(starting_shape), use_bias=False)(inputs)\n",
        "    x = Reshape(starting_shape)(x)\n",
        "    \n",
        "    for _ in range(7):\n",
        "      x = upsample_block(x, 50)\n",
        "\n",
        "    x = Conv1D(filters = 1, kernel_size = 1, strides= 1, padding='same', use_bias=True)(x)\n",
        "    g_model = Model(inputs, x, name=\"generator\")\n",
        "    return g_model"
      ]
    },
    {
      "cell_type": "code",
      "source": [
        "#@title Discriminator-Generator 7sec\n",
        "# discriminator block\n",
        "\n",
        "def conv_block(\n",
        "    x,\n",
        "    filters,\n",
        "    activation = LeakyReLU(0.2),\n",
        "    kernel_size=9,\n",
        "    strides= 1,\n",
        "    padding=\"same\",\n",
        "    use_bias=True,\n",
        "    use_bn=False,\n",
        "    use_dropout=False,\n",
        "    drop_value=0.5\n",
        "):\n",
        "    x = Conv1D(filters, kernel_size, strides=strides, padding=padding, use_bias=use_bias)(x)   \n",
        "    x = Conv1D(filters, kernel_size, strides=strides, padding=padding, use_bias=use_bias)(x) \n",
        "    x = AveragePooling1D(pool_size=2, strides= 2, padding='same')(x)\n",
        "\n",
        "    if use_bn:\n",
        "        x = LayerNormalization(axis = -1)(x)\n",
        "    x = activation(x)\n",
        "    if use_dropout:\n",
        "        x = Dropout(drop_value)(x)\n",
        "    return x\n",
        "\n",
        "\n",
        "def get_discriminator_model(trial_shape):\n",
        "    \n",
        "#     print(f'k_size - {k_size}, s_size - {s_size}, ')\n",
        "    \n",
        "    inputs = Input(shape=trial_shape)\n",
        "    x = Conv1D(filters = 50, kernel_size = 1, strides= 1, padding='same', use_bias=True)(inputs)\n",
        "    for _ in range(7):\n",
        "      x = conv_block(x,50)\n",
        "    x = Flatten()(x)\n",
        "    x = Dropout(0.2)(x)\n",
        "    x = Dense(1)(x)\n",
        "\n",
        "    d_model = Model(inputs, x, name=\"discriminator\")\n",
        "    return d_model\n",
        "\n",
        "\n",
        "# generator block\n",
        "def upsample_block(\n",
        "    x,\n",
        "    filters,\n",
        "    activation=LeakyReLU(0.2),\n",
        "    kernel_size=9,\n",
        "    strides=1,\n",
        "    padding=\"same\",\n",
        "    use_bn=False,\n",
        "    use_bias=True,\n",
        "\n",
        "):\n",
        "    x = UpSampling1D(size=2)(x)\n",
        "    x = Conv1D(filters, kernel_size, strides=strides, padding=padding, use_bias=use_bias)(x)   \n",
        "    x = activation(x)\n",
        "    x = LayerNormalization(axis = -1)(x)\n",
        "    x = Conv1D(filters, kernel_size, strides=strides, padding=padding, use_bias=use_bias)(x) \n",
        "    x = activation(x)\n",
        "    x = LayerNormalization(axis = -1)(x)\n",
        "    return x\n",
        "\n",
        "\n",
        "def get_generator_model(noise_dim, trial_shape):\n",
        "\n",
        "\n",
        "    \n",
        "    starting_shape = (4*segment_length, 50)\n",
        "#     print(f'strides_1 - {strides_1}, kernel_size_1 - {kernel_size_1}, kernel_size_2 - {kernel_size_2}, intermediate_time_dim - {intermediate_time_dim}, starting_shape - {starting_shape}')\n",
        "    \n",
        "    inputs = Input(shape=(noise_dim,)) \n",
        "    x = Dense(np.prod(starting_shape), use_bias=False)(inputs)\n",
        "    x = Reshape(starting_shape)(x)\n",
        "    \n",
        "    for _ in range(7):\n",
        "      x = upsample_block(x, 50)\n",
        "\n",
        "    x = Conv1D(filters = 1, kernel_size = 1, strides= 1, padding='same', use_bias=True)(x)\n",
        "    g_model = Model(inputs, x, name=\"generator\")\n",
        "    return g_model"
      ],
      "metadata": {
        "id": "oBP4UYFU9XdE"
      },
      "execution_count": null,
      "outputs": []
    },
    {
      "cell_type": "code",
      "execution_count": null,
      "metadata": {
        "id": "P6u9-_6HZCl8",
        "cellView": "form"
      },
      "outputs": [],
      "source": [
        "#@title Training Functions\n",
        "def discriminator_loss(real_img, fake_img):\n",
        "    real_loss = tf.reduce_mean(real_img)\n",
        "    fake_loss = tf.reduce_mean(fake_img)\n",
        "    #return tf.sqrt(tf.math.squared_difference(fake_loss, real_loss))\n",
        "    return fake_loss - real_loss\n",
        "\n",
        "def generator_loss(fake_img):\n",
        "    return -tf.reduce_mean(fake_img)\n",
        "    \n",
        "def save_model(generator, discriminator, save_path):\n",
        "  if not os.path.exists(save_path):\n",
        "      os.makedirs(save_path)\n",
        "  \n",
        "  discriminator_save_path = os.path.join(save_path, 'discriminator.h5')\n",
        "  generator_save_path = os.path.join(save_path, 'generator.h5')\n",
        "  generator.save(generator_save_path, save_format='h5')\n",
        "  discriminator.save(discriminator_save_path, save_format='h5')\n",
        "\n",
        "def model_load(save_path):\n",
        "  \n",
        "  discriminator_save_path = os.path.join(save_path, 'discriminator.h5')\n",
        "  generator_save_path = os.path.join(save_path, 'generator.h5')\n",
        "  generator = load_model(generator_save_path)\n",
        "  discriminator = load_model(discriminator_save_path) \n",
        "  return generator, discriminator"
      ]
    },
    {
      "cell_type": "code",
      "execution_count": null,
      "metadata": {
        "id": "asiHflqPW-MW"
      },
      "outputs": [],
      "source": [
        "generator_optimizer = Adam(learning_rate=0.00001, beta_1=0.5, beta_2=0.9)\n",
        "discriminator_optimizer = Adam(learning_rate=0.00001, beta_1=0.5, beta_2=0.9)\n",
        "\n",
        "if loss == 'wgan':\n",
        "  d_loss_fn = discriminator_loss\n",
        "  g_loss_fn = generator_loss\n",
        "else:\n",
        "  d_loss_fn = tf.keras.losses.BinaryCrossentropy(from_logits=True)\n",
        "  g_loss_fn = tf.keras.losses.BinaryCrossentropy(from_logits=True)\n",
        "\n",
        "generator_loss = []\n",
        "discriminator_loss = []\n",
        "\n",
        "if load_pretrained:\n",
        "  generator, discriminator = model_load(save_path)\n",
        "else:\n",
        "  discriminator = get_discriminator_model(trial_shape)\n",
        "  generator = get_generator_model(latent_dim, trial_shape)\n"
      ]
    },
    {
      "cell_type": "code",
      "execution_count": null,
      "metadata": {
        "id": "_L9ggUXmTNjv"
      },
      "outputs": [],
      "source": [
        "#@title Train Model\n",
        "def train_gan(dataset, generator, discriminator, d_loss_fn, g_loss_fn, epochs,gp_weight, save_path, save_epoch = 50):\n",
        "\n",
        "  for epoch in range(1,epochs+1): \n",
        "    for j,batch in tqdm(enumerate(dataset)):\n",
        "      d_mean_loss = 0\n",
        "      g_mean_loss = 0\n",
        "      real_images = batch\n",
        "      # real_images = batch[0]  \n",
        "      # real_labels = batch[1]\n",
        "\n",
        "      for i in range(d_extra_steps):\n",
        "          random_latent_vectors = tf.random.normal(shape=(real_images.shape[0], latent_dim))\n",
        "          \n",
        "          with tf.GradientTape() as tape:\n",
        "              \n",
        "              # fake_images = generator([random_latent_vectors, real_labels], training=False)  # should training for the gen be True here? - training=False\n",
        "              # fake_logits = discriminator([fake_images, real_labels], training=True)\n",
        "              # real_logits = discriminator([real_images, real_labels], training=True)\n",
        "\n",
        "              fake_images = generator(random_latent_vectors, training=False)  # should training for the gen be True here? - training=False\n",
        "              print(fake_images.shape)\n",
        "              fake_logits = discriminator(fake_images, training=True)\n",
        "              real_logits = discriminator(real_images, training=True)\n",
        "\n",
        "              fake_labels = tf.zeros_like(fake_logits)\n",
        "              real_labels = tf.ones_like(fake_logits)\n",
        "\n",
        "              if loss == 'wgan':\n",
        "                d_cost = d_loss_fn(real_img=real_logits, fake_img=fake_logits)\n",
        "              else:\n",
        "                disc_logits = tf.concat((fake_logits, real_logits),0)\n",
        "                disc_labels = tf.concat((fake_labels, real_labels),0)\n",
        "                ind = list(np.random.permutation(disc_labels.shape[0]))\n",
        "                disc_logits = disc_logits[ind]\n",
        "                disc_labels = disc_labels[ind]\n",
        "                d_cost = d_loss_fn(disc_labels, disc_logits)\n",
        "              \n",
        "              if is_gp:\n",
        "                gp = gradient_penalty(discriminator, real_images, fake_images)\n",
        "                d_loss = d_cost + gp * gp_weight\n",
        "              else:\n",
        "                d_loss = d_cost\n",
        "                print(d_loss)\n",
        "                #d_mean_loss += d_loss.numpy()\n",
        "          #d_mean = d_mean_loss/(j+1)\n",
        "          #discriminator_loss.append(d_mean)\n",
        "          d_gradient = tape.gradient(d_loss, discriminator.trainable_variables)\n",
        "          discriminator_optimizer.apply_gradients(zip(d_gradient, discriminator.trainable_variables))\n",
        "\n",
        "      random_latent_vectors = tf.random.normal(shape=(batch_size, latent_dim))\n",
        "      \n",
        "      with tf.GradientTape() as tape:\n",
        "          # generated_images = generator([random_latent_vectors, real_labels], training=True)\n",
        "          # gen_img_logits = discriminator([generated_images, real_labels], training=True)\n",
        "          \n",
        "          generated_images = generator(random_latent_vectors, training=True)\n",
        "          gen_img_logits = discriminator(generated_images, training=True)\n",
        "          gen_labels = tf.zeros_like(gen_img_logits)\n",
        "          if loss == 'wgan':\n",
        "            g_loss = g_loss_fn(gen_img_logits)\n",
        "          else:\n",
        "            g_loss = g_loss_fn(gen_labels, gen_img_logits)\n",
        "          g_mean_loss += g_loss.numpy()\n",
        "\n",
        "      g_mean = g_mean_loss/(j+1)\n",
        "      generator_loss.append(g_mean)\n",
        "      gen_gradient = tape.gradient(g_loss, generator.trainable_variables)\n",
        "      generator_optimizer.apply_gradients(zip(gen_gradient, generator.trainable_variables))\n",
        "    print(f'\\rEpoch: {epoch} ======= Generator Loss: {g_mean_loss} ======= Discriminator Loss: {d_mean_loss}', end = '', flush = True)\n",
        "    if epoch % save_epoch == 0:\n",
        "      print('Saving Model ...... ')\n",
        "      save_model(generator, discriminator, save_path)\n",
        "      show_eeg_signal(generated_images[:,:,0].numpy())\n",
        "      print(f'', end = '\\r')"
      ]
    },
    {
      "cell_type": "code",
      "source": [
        "train_gan(dataset, generator, discriminator, d_loss_fn, g_loss_fn, epochs, gp_weight, save_path= save_path, save_epoch = 10)"
      ],
      "metadata": {
        "colab": {
          "base_uri": "https://localhost:8080/",
          "referenced_widgets": [
            "3a235ea9ad7c4667b650980499541aee",
            "75c898c4fda94b89a0b72b743254e0cb",
            "8ee859357ae34e63932f44d5700c5931",
            "94c4d8714fc74f1b947d82733a0e56a4",
            "9d96c8977e6d4f9894761f677612703e",
            "7e909ea584d74f73928b14de86aa5b8c",
            "dafec3dd9d3a459dbdfa427ead8a5bf8",
            "b5db2be4b278473ba4bfd568adac4e81",
            "b8a3a5e85af04d1a87412fcb52c01a46",
            "63fc1c45966e4950b4d6bd00d6004aa4",
            "3768099ed43141ac87d6ed901e577726"
          ],
          "height": 707
        },
        "id": "CV2E6xErK2A0",
        "outputId": "e5094e4c-6d33-4573-b2f1-4000958de5c9"
      },
      "execution_count": null,
      "outputs": [
        {
          "output_type": "display_data",
          "data": {
            "text/plain": [
              "0it [00:00, ?it/s]"
            ],
            "application/vnd.jupyter.widget-view+json": {
              "version_major": 2,
              "version_minor": 0,
              "model_id": "3a235ea9ad7c4667b650980499541aee"
            }
          },
          "metadata": {}
        },
        {
          "output_type": "stream",
          "name": "stdout",
          "text": [
            "(256, 1536, 1)\n"
          ]
        },
        {
          "output_type": "error",
          "ename": "OverflowError",
          "evalue": "ignored",
          "traceback": [
            "\u001b[0;31m---------------------------------------------------------------------------\u001b[0m",
            "\u001b[0;31mOverflowError\u001b[0m                             Traceback (most recent call last)",
            "\u001b[0;32m<ipython-input-18-69c88ac9cd8f>\u001b[0m in \u001b[0;36m<cell line: 1>\u001b[0;34m()\u001b[0m\n\u001b[0;32m----> 1\u001b[0;31m \u001b[0mtrain_gan\u001b[0m\u001b[0;34m(\u001b[0m\u001b[0mdataset\u001b[0m\u001b[0;34m,\u001b[0m \u001b[0mgenerator\u001b[0m\u001b[0;34m,\u001b[0m \u001b[0mdiscriminator\u001b[0m\u001b[0;34m,\u001b[0m \u001b[0md_loss_fn\u001b[0m\u001b[0;34m,\u001b[0m \u001b[0mg_loss_fn\u001b[0m\u001b[0;34m,\u001b[0m \u001b[0mepochs\u001b[0m\u001b[0;34m,\u001b[0m \u001b[0mgp_weight\u001b[0m\u001b[0;34m,\u001b[0m \u001b[0msave_path\u001b[0m\u001b[0;34m=\u001b[0m \u001b[0msave_path\u001b[0m\u001b[0;34m,\u001b[0m \u001b[0msave_epoch\u001b[0m \u001b[0;34m=\u001b[0m \u001b[0;36m10\u001b[0m\u001b[0;34m)\u001b[0m\u001b[0;34m\u001b[0m\u001b[0;34m\u001b[0m\u001b[0m\n\u001b[0m",
            "\u001b[0;32m<ipython-input-17-2ccf3a1039bd>\u001b[0m in \u001b[0;36mtrain_gan\u001b[0;34m(dataset, generator, discriminator, d_loss_fn, g_loss_fn, epochs, gp_weight, save_path, save_epoch)\u001b[0m\n\u001b[1;32m     33\u001b[0m                 \u001b[0mdisc_labels\u001b[0m \u001b[0;34m=\u001b[0m \u001b[0mtf\u001b[0m\u001b[0;34m.\u001b[0m\u001b[0mconcat\u001b[0m\u001b[0;34m(\u001b[0m\u001b[0;34m(\u001b[0m\u001b[0mfake_labels\u001b[0m\u001b[0;34m,\u001b[0m \u001b[0mreal_labels\u001b[0m\u001b[0;34m)\u001b[0m\u001b[0;34m,\u001b[0m\u001b[0;36m0\u001b[0m\u001b[0;34m)\u001b[0m\u001b[0;34m\u001b[0m\u001b[0;34m\u001b[0m\u001b[0m\n\u001b[1;32m     34\u001b[0m                 \u001b[0mind\u001b[0m \u001b[0;34m=\u001b[0m \u001b[0mlist\u001b[0m\u001b[0;34m(\u001b[0m\u001b[0mnp\u001b[0m\u001b[0;34m.\u001b[0m\u001b[0mrandom\u001b[0m\u001b[0;34m.\u001b[0m\u001b[0mpermutation\u001b[0m\u001b[0;34m(\u001b[0m\u001b[0mdisc_labels\u001b[0m\u001b[0;34m.\u001b[0m\u001b[0mshape\u001b[0m\u001b[0;34m[\u001b[0m\u001b[0;36m0\u001b[0m\u001b[0;34m]\u001b[0m\u001b[0;34m)\u001b[0m\u001b[0;34m)\u001b[0m\u001b[0;34m\u001b[0m\u001b[0;34m\u001b[0m\u001b[0m\n\u001b[0;32m---> 35\u001b[0;31m                 \u001b[0mdisc_logits\u001b[0m \u001b[0;34m=\u001b[0m \u001b[0mdisc_logits\u001b[0m\u001b[0;34m[\u001b[0m\u001b[0mind\u001b[0m\u001b[0;34m]\u001b[0m\u001b[0;34m\u001b[0m\u001b[0;34m\u001b[0m\u001b[0m\n\u001b[0m\u001b[1;32m     36\u001b[0m                 \u001b[0mdisc_labels\u001b[0m \u001b[0;34m=\u001b[0m \u001b[0mdisc_labels\u001b[0m\u001b[0;34m[\u001b[0m\u001b[0mind\u001b[0m\u001b[0;34m]\u001b[0m\u001b[0;34m\u001b[0m\u001b[0;34m\u001b[0m\u001b[0m\n\u001b[1;32m     37\u001b[0m                 \u001b[0md_cost\u001b[0m \u001b[0;34m=\u001b[0m \u001b[0md_loss_fn\u001b[0m\u001b[0;34m(\u001b[0m\u001b[0mdisc_labels\u001b[0m\u001b[0;34m,\u001b[0m \u001b[0mdisc_logits\u001b[0m\u001b[0;34m)\u001b[0m\u001b[0;34m\u001b[0m\u001b[0;34m\u001b[0m\u001b[0m\n",
            "\u001b[0;32m/usr/local/lib/python3.10/dist-packages/tensorflow/python/util/traceback_utils.py\u001b[0m in \u001b[0;36merror_handler\u001b[0;34m(*args, **kwargs)\u001b[0m\n\u001b[1;32m    151\u001b[0m     \u001b[0;32mexcept\u001b[0m \u001b[0mException\u001b[0m \u001b[0;32mas\u001b[0m \u001b[0me\u001b[0m\u001b[0;34m:\u001b[0m\u001b[0;34m\u001b[0m\u001b[0;34m\u001b[0m\u001b[0m\n\u001b[1;32m    152\u001b[0m       \u001b[0mfiltered_tb\u001b[0m \u001b[0;34m=\u001b[0m \u001b[0m_process_traceback_frames\u001b[0m\u001b[0;34m(\u001b[0m\u001b[0me\u001b[0m\u001b[0;34m.\u001b[0m\u001b[0m__traceback__\u001b[0m\u001b[0;34m)\u001b[0m\u001b[0;34m\u001b[0m\u001b[0;34m\u001b[0m\u001b[0m\n\u001b[0;32m--> 153\u001b[0;31m       \u001b[0;32mraise\u001b[0m \u001b[0me\u001b[0m\u001b[0;34m.\u001b[0m\u001b[0mwith_traceback\u001b[0m\u001b[0;34m(\u001b[0m\u001b[0mfiltered_tb\u001b[0m\u001b[0;34m)\u001b[0m \u001b[0;32mfrom\u001b[0m \u001b[0;32mNone\u001b[0m\u001b[0;34m\u001b[0m\u001b[0;34m\u001b[0m\u001b[0m\n\u001b[0m\u001b[1;32m    154\u001b[0m     \u001b[0;32mfinally\u001b[0m\u001b[0;34m:\u001b[0m\u001b[0;34m\u001b[0m\u001b[0;34m\u001b[0m\u001b[0m\n\u001b[1;32m    155\u001b[0m       \u001b[0;32mdel\u001b[0m \u001b[0mfiltered_tb\u001b[0m\u001b[0;34m\u001b[0m\u001b[0;34m\u001b[0m\u001b[0m\n",
            "\u001b[0;32m/usr/local/lib/python3.10/dist-packages/tensorflow/python/ops/gen_array_ops.py\u001b[0m in \u001b[0;36mstrided_slice\u001b[0;34m(input, begin, end, strides, begin_mask, end_mask, ellipsis_mask, new_axis_mask, shrink_axis_mask, name)\u001b[0m\n\u001b[1;32m  10694\u001b[0m   \u001b[0;32mif\u001b[0m \u001b[0mtld\u001b[0m\u001b[0;34m.\u001b[0m\u001b[0mis_eager\u001b[0m\u001b[0;34m:\u001b[0m\u001b[0;34m\u001b[0m\u001b[0;34m\u001b[0m\u001b[0m\n\u001b[1;32m  10695\u001b[0m     \u001b[0;32mtry\u001b[0m\u001b[0;34m:\u001b[0m\u001b[0;34m\u001b[0m\u001b[0;34m\u001b[0m\u001b[0m\n\u001b[0;32m> 10696\u001b[0;31m       _result = pywrap_tfe.TFE_Py_FastPathExecute(\n\u001b[0m\u001b[1;32m  10697\u001b[0m         \u001b[0m_ctx\u001b[0m\u001b[0;34m,\u001b[0m \u001b[0;34m\"StridedSlice\"\u001b[0m\u001b[0;34m,\u001b[0m \u001b[0mname\u001b[0m\u001b[0;34m,\u001b[0m \u001b[0minput\u001b[0m\u001b[0;34m,\u001b[0m \u001b[0mbegin\u001b[0m\u001b[0;34m,\u001b[0m \u001b[0mend\u001b[0m\u001b[0;34m,\u001b[0m \u001b[0mstrides\u001b[0m\u001b[0;34m,\u001b[0m \u001b[0;34m\"begin_mask\"\u001b[0m\u001b[0;34m,\u001b[0m\u001b[0;34m\u001b[0m\u001b[0;34m\u001b[0m\u001b[0m\n\u001b[1;32m  10698\u001b[0m         \u001b[0mbegin_mask\u001b[0m\u001b[0;34m,\u001b[0m \u001b[0;34m\"end_mask\"\u001b[0m\u001b[0;34m,\u001b[0m \u001b[0mend_mask\u001b[0m\u001b[0;34m,\u001b[0m \u001b[0;34m\"ellipsis_mask\"\u001b[0m\u001b[0;34m,\u001b[0m \u001b[0mellipsis_mask\u001b[0m\u001b[0;34m,\u001b[0m\u001b[0;34m\u001b[0m\u001b[0;34m\u001b[0m\u001b[0m\n",
            "\u001b[0;31mOverflowError\u001b[0m: int too big to convert"
          ]
        }
      ]
    },
    {
      "cell_type": "markdown",
      "metadata": {
        "id": "dzcr9Jme7FmN"
      },
      "source": [
        "# Scratch Code"
      ]
    },
    {
      "cell_type": "code",
      "execution_count": null,
      "metadata": {
        "id": "f9eXo2uD2cpL"
      },
      "outputs": [],
      "source": [
        "files = glob.glob(path + '/*.mat')\n",
        "mat = import_data(files[0])\n",
        "d1 = mat['movement_left']"
      ]
    },
    {
      "cell_type": "code",
      "execution_count": null,
      "metadata": {
        "id": "yd4qBKO-XEM1"
      },
      "outputs": [],
      "source": [
        "discriminator.save('/content/disc', save_format = 'h5')"
      ]
    },
    {
      "cell_type": "code",
      "execution_count": null,
      "metadata": {
        "id": "IvGUvW5sXIHP"
      },
      "outputs": [],
      "source": [
        "dataset = tf.data.Dataset.from_tensor_slices(data)\n",
        "del data"
      ]
    },
    {
      "cell_type": "code",
      "execution_count": null,
      "metadata": {
        "id": "YG1JSA0zXSZE"
      },
      "outputs": [],
      "source": [
        "for batch in dataset.take(1):\n",
        "  print(batch.shape)"
      ]
    },
    {
      "cell_type": "code",
      "execution_count": null,
      "metadata": {
        "id": "i4bsNeUbLF_d"
      },
      "outputs": [],
      "source": [
        "discriminator_save_path = os.path.join(save_path, 'discriminator.h5')\n",
        "discriminator.load_weights(discriminator_save_path)"
      ]
    },
    {
      "cell_type": "code",
      "execution_count": null,
      "metadata": {
        "id": "9Sqe2ZOAtgid"
      },
      "outputs": [],
      "source": [
        "desc = get_discriminator_model(trial_shape)"
      ]
    },
    {
      "cell_type": "code",
      "execution_count": null,
      "metadata": {
        "id": "46-aUJOna9vj"
      },
      "outputs": [],
      "source": [
        "gen, disc = model_load(save_path)"
      ]
    },
    {
      "cell_type": "code",
      "execution_count": null,
      "metadata": {
        "id": "0iiJ71t7WIwW"
      },
      "outputs": [],
      "source": [
        "latent_vectors = tf.random.normal(shape=(batch_size, latent_dim))\n",
        "preds = gen(latent_vectors)\n",
        "preds.shape"
      ]
    },
    {
      "cell_type": "code",
      "execution_count": null,
      "metadata": {
        "id": "SwqNOMt9bJYc"
      },
      "outputs": [],
      "source": [
        "os.path.exists(save_path)"
      ]
    },
    {
      "cell_type": "code",
      "execution_count": null,
      "metadata": {
        "id": "iiHKut-cpKjw"
      },
      "outputs": [],
      "source": [
        "show_eeg_signal(preds[:,:,0].numpy())"
      ]
    }
  ],
  "metadata": {
    "accelerator": "GPU",
    "colab": {
      "provenance": [],
      "gpuType": "T4"
    },
    "gpuClass": "standard",
    "kernelspec": {
      "display_name": "Python 3",
      "name": "python3"
    },
    "language_info": {
      "name": "python"
    },
    "widgets": {
      "application/vnd.jupyter.widget-state+json": {
        "e8f74cc700654b0babbda1289dcfb0cd": {
          "model_module": "@jupyter-widgets/controls",
          "model_name": "HBoxModel",
          "model_module_version": "1.5.0",
          "state": {
            "_dom_classes": [],
            "_model_module": "@jupyter-widgets/controls",
            "_model_module_version": "1.5.0",
            "_model_name": "HBoxModel",
            "_view_count": null,
            "_view_module": "@jupyter-widgets/controls",
            "_view_module_version": "1.5.0",
            "_view_name": "HBoxView",
            "box_style": "",
            "children": [
              "IPY_MODEL_30667583d6c34ae49c98e4cc05cc732f",
              "IPY_MODEL_3bbeb99e366d4eb697f3dedd3f605721",
              "IPY_MODEL_7afc685b842b47ad85d98672f788ee3c"
            ],
            "layout": "IPY_MODEL_bd34eb4c3dab425f94f8a134084cf0d4"
          }
        },
        "30667583d6c34ae49c98e4cc05cc732f": {
          "model_module": "@jupyter-widgets/controls",
          "model_name": "HTMLModel",
          "model_module_version": "1.5.0",
          "state": {
            "_dom_classes": [],
            "_model_module": "@jupyter-widgets/controls",
            "_model_module_version": "1.5.0",
            "_model_name": "HTMLModel",
            "_view_count": null,
            "_view_module": "@jupyter-widgets/controls",
            "_view_module_version": "1.5.0",
            "_view_name": "HTMLView",
            "description": "",
            "description_tooltip": null,
            "layout": "IPY_MODEL_0d4b5f9ac11a453188b283a226541c96",
            "placeholder": "​",
            "style": "IPY_MODEL_1203a51caa3d4edb8d4405553d7bfaef",
            "value": "100%"
          }
        },
        "3bbeb99e366d4eb697f3dedd3f605721": {
          "model_module": "@jupyter-widgets/controls",
          "model_name": "FloatProgressModel",
          "model_module_version": "1.5.0",
          "state": {
            "_dom_classes": [],
            "_model_module": "@jupyter-widgets/controls",
            "_model_module_version": "1.5.0",
            "_model_name": "FloatProgressModel",
            "_view_count": null,
            "_view_module": "@jupyter-widgets/controls",
            "_view_module_version": "1.5.0",
            "_view_name": "ProgressView",
            "bar_style": "success",
            "description": "",
            "description_tooltip": null,
            "layout": "IPY_MODEL_e5a5fdc807cf41c69b6aaffac99cb03c",
            "max": 10,
            "min": 0,
            "orientation": "horizontal",
            "style": "IPY_MODEL_2982e0df5ef6472eb10d10185d7ac0cc",
            "value": 10
          }
        },
        "7afc685b842b47ad85d98672f788ee3c": {
          "model_module": "@jupyter-widgets/controls",
          "model_name": "HTMLModel",
          "model_module_version": "1.5.0",
          "state": {
            "_dom_classes": [],
            "_model_module": "@jupyter-widgets/controls",
            "_model_module_version": "1.5.0",
            "_model_name": "HTMLModel",
            "_view_count": null,
            "_view_module": "@jupyter-widgets/controls",
            "_view_module_version": "1.5.0",
            "_view_name": "HTMLView",
            "description": "",
            "description_tooltip": null,
            "layout": "IPY_MODEL_cf0e79ec9d294d7fb72b764393dad572",
            "placeholder": "​",
            "style": "IPY_MODEL_7f30f8bd3a224e038c770bed67e49365",
            "value": " 10/10 [00:40&lt;00:00,  2.97s/it]"
          }
        },
        "bd34eb4c3dab425f94f8a134084cf0d4": {
          "model_module": "@jupyter-widgets/base",
          "model_name": "LayoutModel",
          "model_module_version": "1.2.0",
          "state": {
            "_model_module": "@jupyter-widgets/base",
            "_model_module_version": "1.2.0",
            "_model_name": "LayoutModel",
            "_view_count": null,
            "_view_module": "@jupyter-widgets/base",
            "_view_module_version": "1.2.0",
            "_view_name": "LayoutView",
            "align_content": null,
            "align_items": null,
            "align_self": null,
            "border": null,
            "bottom": null,
            "display": null,
            "flex": null,
            "flex_flow": null,
            "grid_area": null,
            "grid_auto_columns": null,
            "grid_auto_flow": null,
            "grid_auto_rows": null,
            "grid_column": null,
            "grid_gap": null,
            "grid_row": null,
            "grid_template_areas": null,
            "grid_template_columns": null,
            "grid_template_rows": null,
            "height": null,
            "justify_content": null,
            "justify_items": null,
            "left": null,
            "margin": null,
            "max_height": null,
            "max_width": null,
            "min_height": null,
            "min_width": null,
            "object_fit": null,
            "object_position": null,
            "order": null,
            "overflow": null,
            "overflow_x": null,
            "overflow_y": null,
            "padding": null,
            "right": null,
            "top": null,
            "visibility": null,
            "width": null
          }
        },
        "0d4b5f9ac11a453188b283a226541c96": {
          "model_module": "@jupyter-widgets/base",
          "model_name": "LayoutModel",
          "model_module_version": "1.2.0",
          "state": {
            "_model_module": "@jupyter-widgets/base",
            "_model_module_version": "1.2.0",
            "_model_name": "LayoutModel",
            "_view_count": null,
            "_view_module": "@jupyter-widgets/base",
            "_view_module_version": "1.2.0",
            "_view_name": "LayoutView",
            "align_content": null,
            "align_items": null,
            "align_self": null,
            "border": null,
            "bottom": null,
            "display": null,
            "flex": null,
            "flex_flow": null,
            "grid_area": null,
            "grid_auto_columns": null,
            "grid_auto_flow": null,
            "grid_auto_rows": null,
            "grid_column": null,
            "grid_gap": null,
            "grid_row": null,
            "grid_template_areas": null,
            "grid_template_columns": null,
            "grid_template_rows": null,
            "height": null,
            "justify_content": null,
            "justify_items": null,
            "left": null,
            "margin": null,
            "max_height": null,
            "max_width": null,
            "min_height": null,
            "min_width": null,
            "object_fit": null,
            "object_position": null,
            "order": null,
            "overflow": null,
            "overflow_x": null,
            "overflow_y": null,
            "padding": null,
            "right": null,
            "top": null,
            "visibility": null,
            "width": null
          }
        },
        "1203a51caa3d4edb8d4405553d7bfaef": {
          "model_module": "@jupyter-widgets/controls",
          "model_name": "DescriptionStyleModel",
          "model_module_version": "1.5.0",
          "state": {
            "_model_module": "@jupyter-widgets/controls",
            "_model_module_version": "1.5.0",
            "_model_name": "DescriptionStyleModel",
            "_view_count": null,
            "_view_module": "@jupyter-widgets/base",
            "_view_module_version": "1.2.0",
            "_view_name": "StyleView",
            "description_width": ""
          }
        },
        "e5a5fdc807cf41c69b6aaffac99cb03c": {
          "model_module": "@jupyter-widgets/base",
          "model_name": "LayoutModel",
          "model_module_version": "1.2.0",
          "state": {
            "_model_module": "@jupyter-widgets/base",
            "_model_module_version": "1.2.0",
            "_model_name": "LayoutModel",
            "_view_count": null,
            "_view_module": "@jupyter-widgets/base",
            "_view_module_version": "1.2.0",
            "_view_name": "LayoutView",
            "align_content": null,
            "align_items": null,
            "align_self": null,
            "border": null,
            "bottom": null,
            "display": null,
            "flex": null,
            "flex_flow": null,
            "grid_area": null,
            "grid_auto_columns": null,
            "grid_auto_flow": null,
            "grid_auto_rows": null,
            "grid_column": null,
            "grid_gap": null,
            "grid_row": null,
            "grid_template_areas": null,
            "grid_template_columns": null,
            "grid_template_rows": null,
            "height": null,
            "justify_content": null,
            "justify_items": null,
            "left": null,
            "margin": null,
            "max_height": null,
            "max_width": null,
            "min_height": null,
            "min_width": null,
            "object_fit": null,
            "object_position": null,
            "order": null,
            "overflow": null,
            "overflow_x": null,
            "overflow_y": null,
            "padding": null,
            "right": null,
            "top": null,
            "visibility": null,
            "width": null
          }
        },
        "2982e0df5ef6472eb10d10185d7ac0cc": {
          "model_module": "@jupyter-widgets/controls",
          "model_name": "ProgressStyleModel",
          "model_module_version": "1.5.0",
          "state": {
            "_model_module": "@jupyter-widgets/controls",
            "_model_module_version": "1.5.0",
            "_model_name": "ProgressStyleModel",
            "_view_count": null,
            "_view_module": "@jupyter-widgets/base",
            "_view_module_version": "1.2.0",
            "_view_name": "StyleView",
            "bar_color": null,
            "description_width": ""
          }
        },
        "cf0e79ec9d294d7fb72b764393dad572": {
          "model_module": "@jupyter-widgets/base",
          "model_name": "LayoutModel",
          "model_module_version": "1.2.0",
          "state": {
            "_model_module": "@jupyter-widgets/base",
            "_model_module_version": "1.2.0",
            "_model_name": "LayoutModel",
            "_view_count": null,
            "_view_module": "@jupyter-widgets/base",
            "_view_module_version": "1.2.0",
            "_view_name": "LayoutView",
            "align_content": null,
            "align_items": null,
            "align_self": null,
            "border": null,
            "bottom": null,
            "display": null,
            "flex": null,
            "flex_flow": null,
            "grid_area": null,
            "grid_auto_columns": null,
            "grid_auto_flow": null,
            "grid_auto_rows": null,
            "grid_column": null,
            "grid_gap": null,
            "grid_row": null,
            "grid_template_areas": null,
            "grid_template_columns": null,
            "grid_template_rows": null,
            "height": null,
            "justify_content": null,
            "justify_items": null,
            "left": null,
            "margin": null,
            "max_height": null,
            "max_width": null,
            "min_height": null,
            "min_width": null,
            "object_fit": null,
            "object_position": null,
            "order": null,
            "overflow": null,
            "overflow_x": null,
            "overflow_y": null,
            "padding": null,
            "right": null,
            "top": null,
            "visibility": null,
            "width": null
          }
        },
        "7f30f8bd3a224e038c770bed67e49365": {
          "model_module": "@jupyter-widgets/controls",
          "model_name": "DescriptionStyleModel",
          "model_module_version": "1.5.0",
          "state": {
            "_model_module": "@jupyter-widgets/controls",
            "_model_module_version": "1.5.0",
            "_model_name": "DescriptionStyleModel",
            "_view_count": null,
            "_view_module": "@jupyter-widgets/base",
            "_view_module_version": "1.2.0",
            "_view_name": "StyleView",
            "description_width": ""
          }
        },
        "3a235ea9ad7c4667b650980499541aee": {
          "model_module": "@jupyter-widgets/controls",
          "model_name": "HBoxModel",
          "model_module_version": "1.5.0",
          "state": {
            "_dom_classes": [],
            "_model_module": "@jupyter-widgets/controls",
            "_model_module_version": "1.5.0",
            "_model_name": "HBoxModel",
            "_view_count": null,
            "_view_module": "@jupyter-widgets/controls",
            "_view_module_version": "1.5.0",
            "_view_name": "HBoxView",
            "box_style": "",
            "children": [
              "IPY_MODEL_75c898c4fda94b89a0b72b743254e0cb",
              "IPY_MODEL_8ee859357ae34e63932f44d5700c5931",
              "IPY_MODEL_94c4d8714fc74f1b947d82733a0e56a4"
            ],
            "layout": "IPY_MODEL_9d96c8977e6d4f9894761f677612703e"
          }
        },
        "75c898c4fda94b89a0b72b743254e0cb": {
          "model_module": "@jupyter-widgets/controls",
          "model_name": "HTMLModel",
          "model_module_version": "1.5.0",
          "state": {
            "_dom_classes": [],
            "_model_module": "@jupyter-widgets/controls",
            "_model_module_version": "1.5.0",
            "_model_name": "HTMLModel",
            "_view_count": null,
            "_view_module": "@jupyter-widgets/controls",
            "_view_module_version": "1.5.0",
            "_view_name": "HTMLView",
            "description": "",
            "description_tooltip": null,
            "layout": "IPY_MODEL_7e909ea584d74f73928b14de86aa5b8c",
            "placeholder": "​",
            "style": "IPY_MODEL_dafec3dd9d3a459dbdfa427ead8a5bf8",
            "value": ""
          }
        },
        "8ee859357ae34e63932f44d5700c5931": {
          "model_module": "@jupyter-widgets/controls",
          "model_name": "FloatProgressModel",
          "model_module_version": "1.5.0",
          "state": {
            "_dom_classes": [],
            "_model_module": "@jupyter-widgets/controls",
            "_model_module_version": "1.5.0",
            "_model_name": "FloatProgressModel",
            "_view_count": null,
            "_view_module": "@jupyter-widgets/controls",
            "_view_module_version": "1.5.0",
            "_view_name": "ProgressView",
            "bar_style": "danger",
            "description": "",
            "description_tooltip": null,
            "layout": "IPY_MODEL_b5db2be4b278473ba4bfd568adac4e81",
            "max": 1,
            "min": 0,
            "orientation": "horizontal",
            "style": "IPY_MODEL_b8a3a5e85af04d1a87412fcb52c01a46",
            "value": 0
          }
        },
        "94c4d8714fc74f1b947d82733a0e56a4": {
          "model_module": "@jupyter-widgets/controls",
          "model_name": "HTMLModel",
          "model_module_version": "1.5.0",
          "state": {
            "_dom_classes": [],
            "_model_module": "@jupyter-widgets/controls",
            "_model_module_version": "1.5.0",
            "_model_name": "HTMLModel",
            "_view_count": null,
            "_view_module": "@jupyter-widgets/controls",
            "_view_module_version": "1.5.0",
            "_view_name": "HTMLView",
            "description": "",
            "description_tooltip": null,
            "layout": "IPY_MODEL_63fc1c45966e4950b4d6bd00d6004aa4",
            "placeholder": "​",
            "style": "IPY_MODEL_3768099ed43141ac87d6ed901e577726",
            "value": " 0/? [00:00&lt;?, ?it/s]"
          }
        },
        "9d96c8977e6d4f9894761f677612703e": {
          "model_module": "@jupyter-widgets/base",
          "model_name": "LayoutModel",
          "model_module_version": "1.2.0",
          "state": {
            "_model_module": "@jupyter-widgets/base",
            "_model_module_version": "1.2.0",
            "_model_name": "LayoutModel",
            "_view_count": null,
            "_view_module": "@jupyter-widgets/base",
            "_view_module_version": "1.2.0",
            "_view_name": "LayoutView",
            "align_content": null,
            "align_items": null,
            "align_self": null,
            "border": null,
            "bottom": null,
            "display": null,
            "flex": null,
            "flex_flow": null,
            "grid_area": null,
            "grid_auto_columns": null,
            "grid_auto_flow": null,
            "grid_auto_rows": null,
            "grid_column": null,
            "grid_gap": null,
            "grid_row": null,
            "grid_template_areas": null,
            "grid_template_columns": null,
            "grid_template_rows": null,
            "height": null,
            "justify_content": null,
            "justify_items": null,
            "left": null,
            "margin": null,
            "max_height": null,
            "max_width": null,
            "min_height": null,
            "min_width": null,
            "object_fit": null,
            "object_position": null,
            "order": null,
            "overflow": null,
            "overflow_x": null,
            "overflow_y": null,
            "padding": null,
            "right": null,
            "top": null,
            "visibility": null,
            "width": null
          }
        },
        "7e909ea584d74f73928b14de86aa5b8c": {
          "model_module": "@jupyter-widgets/base",
          "model_name": "LayoutModel",
          "model_module_version": "1.2.0",
          "state": {
            "_model_module": "@jupyter-widgets/base",
            "_model_module_version": "1.2.0",
            "_model_name": "LayoutModel",
            "_view_count": null,
            "_view_module": "@jupyter-widgets/base",
            "_view_module_version": "1.2.0",
            "_view_name": "LayoutView",
            "align_content": null,
            "align_items": null,
            "align_self": null,
            "border": null,
            "bottom": null,
            "display": null,
            "flex": null,
            "flex_flow": null,
            "grid_area": null,
            "grid_auto_columns": null,
            "grid_auto_flow": null,
            "grid_auto_rows": null,
            "grid_column": null,
            "grid_gap": null,
            "grid_row": null,
            "grid_template_areas": null,
            "grid_template_columns": null,
            "grid_template_rows": null,
            "height": null,
            "justify_content": null,
            "justify_items": null,
            "left": null,
            "margin": null,
            "max_height": null,
            "max_width": null,
            "min_height": null,
            "min_width": null,
            "object_fit": null,
            "object_position": null,
            "order": null,
            "overflow": null,
            "overflow_x": null,
            "overflow_y": null,
            "padding": null,
            "right": null,
            "top": null,
            "visibility": null,
            "width": null
          }
        },
        "dafec3dd9d3a459dbdfa427ead8a5bf8": {
          "model_module": "@jupyter-widgets/controls",
          "model_name": "DescriptionStyleModel",
          "model_module_version": "1.5.0",
          "state": {
            "_model_module": "@jupyter-widgets/controls",
            "_model_module_version": "1.5.0",
            "_model_name": "DescriptionStyleModel",
            "_view_count": null,
            "_view_module": "@jupyter-widgets/base",
            "_view_module_version": "1.2.0",
            "_view_name": "StyleView",
            "description_width": ""
          }
        },
        "b5db2be4b278473ba4bfd568adac4e81": {
          "model_module": "@jupyter-widgets/base",
          "model_name": "LayoutModel",
          "model_module_version": "1.2.0",
          "state": {
            "_model_module": "@jupyter-widgets/base",
            "_model_module_version": "1.2.0",
            "_model_name": "LayoutModel",
            "_view_count": null,
            "_view_module": "@jupyter-widgets/base",
            "_view_module_version": "1.2.0",
            "_view_name": "LayoutView",
            "align_content": null,
            "align_items": null,
            "align_self": null,
            "border": null,
            "bottom": null,
            "display": null,
            "flex": null,
            "flex_flow": null,
            "grid_area": null,
            "grid_auto_columns": null,
            "grid_auto_flow": null,
            "grid_auto_rows": null,
            "grid_column": null,
            "grid_gap": null,
            "grid_row": null,
            "grid_template_areas": null,
            "grid_template_columns": null,
            "grid_template_rows": null,
            "height": null,
            "justify_content": null,
            "justify_items": null,
            "left": null,
            "margin": null,
            "max_height": null,
            "max_width": null,
            "min_height": null,
            "min_width": null,
            "object_fit": null,
            "object_position": null,
            "order": null,
            "overflow": null,
            "overflow_x": null,
            "overflow_y": null,
            "padding": null,
            "right": null,
            "top": null,
            "visibility": null,
            "width": "20px"
          }
        },
        "b8a3a5e85af04d1a87412fcb52c01a46": {
          "model_module": "@jupyter-widgets/controls",
          "model_name": "ProgressStyleModel",
          "model_module_version": "1.5.0",
          "state": {
            "_model_module": "@jupyter-widgets/controls",
            "_model_module_version": "1.5.0",
            "_model_name": "ProgressStyleModel",
            "_view_count": null,
            "_view_module": "@jupyter-widgets/base",
            "_view_module_version": "1.2.0",
            "_view_name": "StyleView",
            "bar_color": null,
            "description_width": ""
          }
        },
        "63fc1c45966e4950b4d6bd00d6004aa4": {
          "model_module": "@jupyter-widgets/base",
          "model_name": "LayoutModel",
          "model_module_version": "1.2.0",
          "state": {
            "_model_module": "@jupyter-widgets/base",
            "_model_module_version": "1.2.0",
            "_model_name": "LayoutModel",
            "_view_count": null,
            "_view_module": "@jupyter-widgets/base",
            "_view_module_version": "1.2.0",
            "_view_name": "LayoutView",
            "align_content": null,
            "align_items": null,
            "align_self": null,
            "border": null,
            "bottom": null,
            "display": null,
            "flex": null,
            "flex_flow": null,
            "grid_area": null,
            "grid_auto_columns": null,
            "grid_auto_flow": null,
            "grid_auto_rows": null,
            "grid_column": null,
            "grid_gap": null,
            "grid_row": null,
            "grid_template_areas": null,
            "grid_template_columns": null,
            "grid_template_rows": null,
            "height": null,
            "justify_content": null,
            "justify_items": null,
            "left": null,
            "margin": null,
            "max_height": null,
            "max_width": null,
            "min_height": null,
            "min_width": null,
            "object_fit": null,
            "object_position": null,
            "order": null,
            "overflow": null,
            "overflow_x": null,
            "overflow_y": null,
            "padding": null,
            "right": null,
            "top": null,
            "visibility": null,
            "width": null
          }
        },
        "3768099ed43141ac87d6ed901e577726": {
          "model_module": "@jupyter-widgets/controls",
          "model_name": "DescriptionStyleModel",
          "model_module_version": "1.5.0",
          "state": {
            "_model_module": "@jupyter-widgets/controls",
            "_model_module_version": "1.5.0",
            "_model_name": "DescriptionStyleModel",
            "_view_count": null,
            "_view_module": "@jupyter-widgets/base",
            "_view_module_version": "1.2.0",
            "_view_name": "StyleView",
            "description_width": ""
          }
        }
      }
    }
  },
  "nbformat": 4,
  "nbformat_minor": 0
}